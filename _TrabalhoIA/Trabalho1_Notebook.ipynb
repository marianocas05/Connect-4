{
  "cells": [
    {
      "cell_type": "markdown",
      "metadata": {
        "id": "7FxTtVp5Fl_O",
        "toc-hr-collapsed": false
      },
      "source": [
        "# TRABALHO #1 — Grupo 6"
      ]
    },
    {
      "cell_type": "markdown",
      "metadata": {
        "id": "pdrAbnFIFl_Q",
        "toc-hr-collapsed": false
      },
      "source": [
        " **Tópico: Informed and adversarial search strategies**\n",
        "\n",
        "Membros:\n",
        "\n",
        " - Mariana Filipa Ribeiro Ferreira (up202205006)\n",
        " - Raquel Barbosa Ferreira Alves (up202206827)\n",
        " - Gonçalo Reimão Silva da Luz (up202205522)\n",
        "\n"
      ]
    },
    {
      "cell_type": "markdown",
      "metadata": {
        "id": "vcndTP99Fl_T"
      },
      "source": [
        "## A* Algorithm"
      ]
    },
    {
      "cell_type": "code",
      "execution_count": null,
      "metadata": {},
      "outputs": [],
      "source": [
        "def evaluate_segment(segment, player):  # heuristic\n",
        "    num_player = segment.count(player)\n",
        "    num_opponent = segment.count(\"🔴\")\n",
        "\n",
        "    if num_player == 0:\n",
        "        if num_opponent == 3:\n",
        "            return -50\n",
        "        elif num_opponent == 2:\n",
        "            return -10\n",
        "        elif num_opponent == 1:\n",
        "            return -1\n",
        "        elif num_opponent == 4:\n",
        "            return -999\n",
        "        else:\n",
        "            return 0\n",
        "    elif num_opponent == 0:\n",
        "        if num_player == 3:\n",
        "            return 50\n",
        "        elif num_player == 2:\n",
        "            return 10\n",
        "        elif num_player == 1:\n",
        "            return 1\n",
        "        elif num_player == 4:\n",
        "            return 999\n",
        "        else:\n",
        "            return 0\n",
        "    else:\n",
        "        return 0"
      ]
    },
    {
      "cell_type": "markdown",
      "metadata": {},
      "source": [
        "Esta função serve para implementar a heurística fornecida pelo professor ao receber dois parâmetros: 'segment', que é uma sequência de elementos representando um segmento do jogo, e 'player', que indica o jogador atual. A função avalia o segmento com base nas peças do jogador e do oponente presentes nele. Ela conta o número de peças do jogador ('num_player') e do oponente ('num_opponent') no segmento e atribui cotação tendo em conta isso."
      ]
    },
    {
      "cell_type": "code",
      "execution_count": null,
      "metadata": {},
      "outputs": [],
      "source": [
        "def evaluate_board(board, player):\n",
        "    total_score = 0\n",
        "    # opponent = \"🔴\" if player == \"🔵\" else \"🔵\"\n",
        "\n",
        "    # Evaluate rows\n",
        "    for row in board:\n",
        "        for c in range(7 - 3):\n",
        "            segment = row[c : c + 4]\n",
        "            total_score += evaluate_segment(segment, player)\n",
        "\n",
        "    # Evaluate columns\n",
        "    for c in range(7):\n",
        "        column = [board[r][c] for r in range(6)]\n",
        "        for r in range(6 - 3):\n",
        "            segment = column[r : r + 4]\n",
        "            total_score += evaluate_segment(segment, player)\n",
        "\n",
        "    # Evaluate diagonals\n",
        "    for r in range(6 - 3):\n",
        "        for c in range(7 - 3):\n",
        "            segment = [board[r + i][c + i] for i in range(4)]\n",
        "            total_score += evaluate_segment(segment, player)\n",
        "\n",
        "    for r in range(6 - 3):\n",
        "        for c in range(3, 7):\n",
        "            segment = [board[r + i][c - i] for i in range(4)]\n",
        "            total_score += evaluate_segment(segment, player)\n",
        "\n",
        "    return total_score"
      ]
    },
    {
      "cell_type": "markdown",
      "metadata": {},
      "source": [
        "A função \"evaluate_board()\" recebe dois inputs: o tabuleiro de jogo, e a ficha do jogador, que pode ser 🔴 ou 🔵 (No entanto, na implementação do algoritmo, esta função recebe sempre a ficha de jogo \"🔵\" representante do jogador AI como input). Esta função retorna a pontuação total para o jogador em questão.\n",
        "\n",
        "Esta função itera por todos os segmentos possiveis numa linha, coluna, e diagonal do tabuleiro (de modo semelhante à função \"check_winner()\" descrita acima) e avalia-os através da função \"evaluate_score()\", determinando assim uma pontuação para o jogador."
      ]
    },
    {
      "cell_type": "code",
      "execution_count": null,
      "metadata": {},
      "outputs": [],
      "source": [
        "def A_star_move(board):\n",
        "\n",
        "    possible_moves = [col for col in range(7) if board[0][col] == \"🔲\"]\n",
        "    best_move = possible_moves[0]\n",
        "    best_score = -float(\"inf\")\n",
        "\n",
        "    for move in possible_moves:\n",
        "        temp_board = [row[:] for row in board]\n",
        "        drop_chip(temp_board, move, \"🔵\")\n",
        "        total_score = evaluate_board(temp_board, \"🔵\")\n",
        "        if total_score > best_score:\n",
        "            best_score = total_score\n",
        "            best_move = move\n",
        "\n",
        "    return best_move\n",
        "\n",
        "# from game\n",
        "def drop_chip(board, column, chip):\n",
        "    for row in range(5, -1, -1):\n",
        "        if board[row][column] == \"🔲\":\n",
        "            board[row][column] = chip\n",
        "            return True\n",
        "    return False"
      ]
    },
    {
      "cell_type": "markdown",
      "metadata": {},
      "source": [
        "Esta função é chamada diretamente pelo \"main()\". A função \"A_star_move()\" recebe o tabuleiro e, utilizando as funções auxiliares descritas acima, seleciona a melhor jogada para o AI.\n",
        "\n",
        "Primeiro, esta função identifica todos os movimentos possiveis utilizando a função \"drop_chip()\". Esta função recebe como input o tabuleiro (uma lista), uma coluna do tabuleiro, e uma ficha de jogo (🔴 & 🔵). Esta função tenta colocar uma determinada ficha de jogo no tabuleiro. Se esse movimento for possível, a função retorna Tryue. Se não for possível (caso, por exemplo, a coluna selecionada esteja cheia), a função retorna False.\n",
        "\n",
        "De seguida, itera-se sobre cada movimento possível, e simula a colocação de uma ficha na coluno num tabuleiro temporário. Esse tabuleiro é avaliado usando a função \"evaluate_board()\" e o movimento que será concretizado no tabuleiro real é o movimento que obtiver a maior pontuaçãp, sendo retornado o número da coluna correspondente."
      ]
    },
    {
      "cell_type": "markdown",
      "metadata": {},
      "source": [
        "## Monte-Carlo Tree Search"
      ]
    },
    {
      "cell_type": "code",
      "execution_count": null,
      "metadata": {},
      "outputs": [],
      "source": [
        "import copy\n",
        "import math\n",
        "import random\n",
        "\n",
        "LINES = 6\n",
        "COLUMNS = 7\n",
        "AI_CHIP = \"🔵\"\n",
        "PLAYER_CHIP = \"🔴\"\n",
        "\n",
        "\n",
        "class Node:\n",
        "    def __init__(self, estado, pai=None):\n",
        "        self.estado = estado\n",
        "        self.pai = pai\n",
        "        self.filhos = []\n",
        "        self.visitas = 0\n",
        "        self.vitorias = 0\n",
        "        self.score = 0"
      ]
    },
    {
      "cell_type": "markdown",
      "metadata": {},
      "source": [
        "Neste excerto de código começamos por dar \"import\" às bibliotecas necessárias (copy, math, e random), seguidas das constantes necessárias para facilitar o código. As variáveis LINES e COLUMNS definem o tamanho do tabuleiro do jogo e AI_CHIP e PLAYER_CHIP para representarem as fichas do jogador e do adversário (🔵 & 🔴 respetivamente).\n",
        "\n",
        "Aqui também é definida a classe Node, que representa um nó na árvore de busca. Cada nó armazena um estado do jogo, uma referência ao nó pai, uma lista de nós filhos, o número de visitas ao nó, o número de vitórias a partir do nó e um score (pontuação) calculado."
      ]
    },
    {
      "cell_type": "code",
      "execution_count": null,
      "metadata": {
        "id": "1P_ZXrnZFl_U"
      },
      "outputs": [],
      "source": [
        "def check_winner(board, chip):\n",
        "    # 4 EM LINHA HORIZONTAL\n",
        "    for c in range(7 - 3):  # Iterate over columns\n",
        "        for r in range(6):  # Iterate over rows\n",
        "            if (\n",
        "                board[r][c] == chip\n",
        "                and board[r][c + 1] == chip\n",
        "                and board[r][c + 2] == chip\n",
        "                and board[r][c + 3] == chip\n",
        "            ):\n",
        "                return True\n",
        "\n",
        "    # 4 EM LINHA VERTICAL\n",
        "    for c in range(7):  # Iterate over columns\n",
        "        for r in range(6 - 3):  # Iterate over rows\n",
        "            if (\n",
        "                board[r][c] == chip\n",
        "                and board[r + 1][c] == chip\n",
        "                and board[r + 2][c] == chip\n",
        "                and board[r + 3][c] == chip\n",
        "            ):\n",
        "                return True\n",
        "\n",
        "    # 4 EM LINHA DIAGONAL (pos)\n",
        "    for c in range(7 - 3):  # Iterate over columns\n",
        "        for r in range(6 - 3):  # Iterate over rows\n",
        "            if (\n",
        "                board[r][c] == chip\n",
        "                and board[r + 1][c + 1] == chip\n",
        "                and board[r + 2][c + 2] == chip\n",
        "                and board[r + 3][c + 3] == chip\n",
        "            ):\n",
        "                return True\n",
        "\n",
        "    # 4 EM LINHA DIAGONAL (neg)\n",
        "    for c in range(7 - 3):  # Iterate over columns\n",
        "        for r in range(3, 6):  # Iterate over rows\n",
        "            if (\n",
        "                board[r][c] == chip\n",
        "                and board[r - 1][c + 1] == chip\n",
        "                and board[r - 2][c + 2] == chip\n",
        "                and board[r - 3][c + 3] == chip\n",
        "            ):\n",
        "                return True\n",
        "\n",
        "    return False"
      ]
    },
    {
      "cell_type": "markdown",
      "metadata": {},
      "source": [
        "A função \"check_winner()\" serve para verificar se há um vencedor do jogo, ou seja, se existem 4 (ou mais) fichas de jogo em posições consecutivas, seja na horizontal, vertical, ou na diagonal. Esta função recebe como input uma lista que contém a representação do tabuleiro de jogo, e uma determinada ficha de jogo que corresponde a um dos dois jogadores (🔴 & 🔵). Se existir uma posição de vitória para a ficha indicada, a função retorna True. Se não, retorna False."
      ]
    },
    {
      "cell_type": "code",
      "execution_count": null,
      "metadata": {},
      "outputs": [],
      "source": [
        "def is_board_full(board):\n",
        "    # Função explicada no interface\n",
        "    for row in board:\n",
        "        if \"🔲\" in row:\n",
        "            return False\n",
        "    return True\n",
        "\n",
        "def terminal(estado):\n",
        "    # Ver se alguém ganhou\n",
        "    return check_winner(estado, AI_CHIP) or check_winner(estado, PLAYER_CHIP) or is_board_full(estado)\n",
        "\n",
        "\n",
        "def movimentos_validos(estado):\n",
        "    # Retorna uma lista de colunas válidas onde um chip pode ser colocado\n",
        "    valid_moves = []\n",
        "    for coluna in range(COLUMNS):\n",
        "        if estado[0][coluna] == \"🔲\":\n",
        "            valid_moves.append(coluna)\n",
        "    return valid_moves\n",
        "\n",
        "\n",
        "def proxima_linha_disponivel(estado, coluna):\n",
        "    # Encontra a próxima linha válida numa coluna\n",
        "    for linha in range(LINES-1, -1, -1):\n",
        "        if estado[linha][coluna] == \"🔲\":\n",
        "            return linha\n",
        "    return None\n",
        "\n",
        "\n",
        "def resultado(estado):\n",
        "    if check_winner(estado, AI_CHIP):\n",
        "        return \"win\"  # AI ganha\n",
        "    elif check_winner(estado, PLAYER_CHIP):\n",
        "        return \"lose\"  # Oponente ganha\n",
        "    else:\n",
        "        return \"draw\"  # Empate"
      ]
    },
    {
      "cell_type": "markdown",
      "metadata": {},
      "source": [
        "Estas são umas pequenas funções auxiliares necessárias para o funcionamento do código:\n",
        "- 'terminal' server para verificar se o jogo acabou, ou seja se alguém ganhou ou se o tabuleiro ficou cheio.  \n",
        "- 'movimentos_validos' retorna uma lista com todos os locais onde será possível jogar.\n",
        "- 'proxima_linha_disponivel' retorna a linha que esteja vazia ao longo do tabuleiro.\n",
        "- 'resultado' verifica quem ganhou ou se houve um empate."
      ]
    },
    {
      "cell_type": "code",
      "execution_count": null,
      "metadata": {},
      "outputs": [],
      "source": [
        "def expandir(node):\n",
        "    player = aux_expandir(node)\n",
        "    for i in movimentos_validos(node.estado):\n",
        "        linha = proxima_linha_disponivel(node.estado, i)\n",
        "        estado_next = copy.deepcopy(node.estado)\n",
        "        estado_next[linha][i] = player\n",
        "        next_node = Node(estado_next)\n",
        "        next_node.pai = node\n",
        "        node.filhos.append(next_node)\n",
        "\n",
        "        \n",
        "def aux_expandir(node):\n",
        "    n_ai = 0\n",
        "    n_player = 0\n",
        "    for line in node.estado:\n",
        "        for element in line:\n",
        "            if element == AI_CHIP:\n",
        "                n_ai += 1\n",
        "            elif element == PLAYER_CHIP:\n",
        "                n_player += 1\n",
        "    if n_ai == n_player:\n",
        "        return PLAYER_CHIP\n",
        "    elif n_ai < n_player:\n",
        "        return AI_CHIP"
      ]
    },
    {
      "cell_type": "markdown",
      "metadata": {},
      "source": [
        "A função 'expandir' é responsável por expandir um nó na árvore de busca. Ela primeiro chama aux_expandir(node) para determinar qual jogador fará o próximo movimento com base no estado atual do tabuleiro representado pelo nó. Em seguida, itera sobre os movimentos válidos disponíveis no estado atual do tabuleiro. Para cada movimento válido, determina a próxima linha disponível na coluna selecionada. Em seguida, cria um novo estado do tabuleiro copiando o estado atual e fazendo a jogada na próxima linha disponível. Com base neste novo estado, cria um novo nó na árvore (next_node) e o adiciona como filho do nó atual (node).\n",
        "\n",
        "A 'aux_expandir' conta o número de fichas do jogador AI e do jogador adversário no tabuleiro para perceber quem tem de fazer o próximo movimento, sendo que nunca é possível haverem mais chips 🔵 do que 🔴."
      ]
    },
    {
      "cell_type": "code",
      "execution_count": null,
      "metadata": {},
      "outputs": [],
      "source": [
        "def find_leafs(node):\n",
        "    if not node.filhos:\n",
        "        return [node]\n",
        "    leafs = []\n",
        "    for filho in node.filhos:\n",
        "        leafs.extend(find_leafs(filho))\n",
        "    return leafs\n",
        "\n",
        "\n",
        "def select_node_to_expand(tree):\n",
        "    leaf_nodes = find_leafs(tree)\n",
        "    ucb1_best = -float(\"inf\")\n",
        "    node_to_expand = None\n",
        "    for node in leaf_nodes:\n",
        "        player = aux_expandir(node)\n",
        "        if terminal(node.estado) == False:\n",
        "            if node.visitas == 0:\n",
        "                return node  # Tratar nós não visitados como tendo um valor UCB1 alto\n",
        "            elif player == AI_CHIP:\n",
        "                ucb1 = node.vitorias / node.visitas + 0.8 *math.sqrt( math.log(node.pai.visitas) / node.visitas)\n",
        "            elif player == PLAYER_CHIP:\n",
        "                ucb1 = (1 - (node.vitorias / node.visitas)) + 0.8 *math.sqrt( math.log(node.pai.visitas) / node.visitas)\n",
        "            if ucb1 > ucb1_best:\n",
        "                node_to_expand = node\n",
        "                ucb1_best = ucb1\n",
        "    return node_to_expand"
      ]
    },
    {
      "cell_type": "markdown",
      "metadata": {},
      "source": [
        "A função 'find_leafs' serve para encontrar todos os nós folhas, ou seja, os nós que não tiverem filhos.\n",
        "\n",
        "De seguida, a próxima função é responsável por selecionar um nó para expandir na árvore de busca, usando o critério Upper Confidence Bound 1 (UCB1). O UCB1 é uma combinação de duas partes: uma estimativa da média das vitórias sobre visitas e uma medida de exploração que é proporcional à raiz quadrada do logaritmo do número de visitas do nó pai sobre o número de visitas do nó atual. Se o jogador associado ao nó for o jogador AI, é maximizado o UCB1 para explorar mais jogadas favoráveis. Caso contrário, é maximizado o UCB1 para explorar jogadas que resultem em menos vitórias para o adversário. O nó com o maior valor UCB1 é selecionado para expansão e retornado como resultado."
      ]
    },
    {
      "cell_type": "code",
      "execution_count": null,
      "metadata": {},
      "outputs": [],
      "source": [
        "def simulacao(estado, jogador_atual):\n",
        "    estado_simulado = copy.deepcopy(estado)\n",
        "    while not terminal(estado_simulado):\n",
        "        movimentos_possiveis = movimentos_validos(estado_simulado)\n",
        "        movimento = random.choice(movimentos_possiveis)\n",
        "        linha = proxima_linha_disponivel(estado_simulado, movimento)\n",
        "        estado_simulado[linha][movimento] = jogador_atual\n",
        "        jogador_atual = PLAYER_CHIP if jogador_atual == AI_CHIP else AI_CHIP\n",
        "    return resultado(estado_simulado)\n",
        "\n",
        "\n",
        "def retropropagacao(node, resul):\n",
        "    while node is not None:\n",
        "        node.visitas += 1\n",
        "        if resul == \"win\":\n",
        "            node.score += 1\n",
        "            node.vitorias += 1\n",
        "        elif resul == \"lose\":\n",
        "            node.score -= 1\n",
        "        elif resul == \"draw\":\n",
        "            node.score += 0\n",
        "        node = node.pai"
      ]
    },
    {
      "cell_type": "markdown",
      "metadata": {},
      "source": [
        "Na 'simulacao' durante cada iteração do loop, que só termina quando a codição da função 'terminal' é verificada, é selecionado aleatoriamente um movimento válido para o jogador atual, de seguida atualiza o estado do tabuleiro com o movimento escolhido e alterna para o próximo jogador. Ao final, retorna o resultado do jogo a partir do estado final do tabuleiro.\n",
        "\n",
        "A 'retropropagação' é responsável por atualizar as estatísticas dos nós na árvore de busca com base no resultado da simulação. Ela percorre o caminho de nós do nó folha até a raiz, incrementando o número de visitas de cada nó e ajustando as contagens de vitória, derrota ou empate, dependendo do resultado da simulação."
      ]
    },
    {
      "cell_type": "code",
      "execution_count": null,
      "metadata": {},
      "outputs": [],
      "source": [
        "def selecionar_melhor_filho(node):\n",
        "    melhor_filho = None\n",
        "    super_max = -float('inf')\n",
        "    score_max = -float('inf')\n",
        "    for filho in (node.filhos):\n",
        "        valor = filho.vitorias/filho.visitas\n",
        "        if valor > super_max:\n",
        "            if filho.score > score_max:\n",
        "                super_max = valor\n",
        "                melhor_filho = filho\n",
        "                score_max = filho.score\n",
        "    return melhor_filho"
      ]
    },
    {
      "cell_type": "markdown",
      "metadata": {},
      "source": [
        "Aqui selecionamos o melhor filho de um nó na árvore de busca, com base nas estatísticas acumuladas durante as simulações, tendo em conta a proporção de vitórias sobre visitas e o que tiver maior score, para ter em conta o filho com mais vitórias e menos derrotas. "
      ]
    },
    {
      "cell_type": "code",
      "execution_count": null,
      "metadata": {},
      "outputs": [],
      "source": [
        "def comparar_tab(atual,futuro):\n",
        "    for c in range (7):\n",
        "        for r in range (6):\n",
        "            if atual[r][c] != futuro[r][c]:\n",
        "                return c\n",
        "            \n",
        "def MCTS_move(tabuleiro):\n",
        "    estado_raiz = copy.deepcopy(tabuleiro)\n",
        "    node_raiz = Node(estado_raiz)\n",
        "    player = AI_CHIP\n",
        "\n",
        "    for i in range(500):  # número de simulações (alterar para obter resultados diferentes)\n",
        "        node_a_expandir = select_node_to_expand(node_raiz)\n",
        "        if node_a_expandir == None:\n",
        "            break\n",
        "        expandir(node_a_expandir)\n",
        "        for node in node_a_expandir.filhos:\n",
        "            player = aux_expandir(node)\n",
        "            for _ in range (5):\n",
        "                resultado_simulacao = simulacao(node.estado, player)\n",
        "                retropropagacao(node, resultado_simulacao)\n",
        "        print(i)\n",
        "    melhor_filho = selecionar_melhor_filho(node_raiz)\n",
        "    return comparar_tab(tabuleiro, melhor_filho.estado)"
      ]
    },
    {
      "cell_type": "markdown",
      "metadata": {},
      "source": [
        "A função \"MCTS_move()\" é a principal função deste método de procura, que é chamada pelo interface do jogo. É onde é decidida a jogada a ser realizada pelo AI através das várias funções auxiliares. Começamos por criar uma  cópia do estado atual do tabuleiro para evitar modificar o estado original durante a busca seguido da criação de um nó raiz da árvore de busca com o estado do tabuleiro atual.\n",
        "\n",
        "No loop principal é decidido o número de iterações a serem realizadas do algoritmo MCTS, nós optamos por 500 que pareceu o número mais razoável para o tempo de espera. Durante cada iteração seleciona um nó para expandir usando a função select_node_to_expand(node_raiz). Expande o nó selecionado adicionando seus filhos e realiza uma simulação a partir de cada filho do nó expandido para obter um resultado de simulação para não percorrer sempre o mesmo node. O print(i) serve apenas para ter noção do tempo de espera.\n",
        "\n",
        "Após as simulações, seleciona o melhor filho do nó raiz com base nas estatísticas acumuladas durante as simulações, por fim retorna o próximo movimento a ser feito pela AI, comparando o estado do tabuleiro atual com o estado do melhor filho selecionado.\n"
      ]
    },
    {
      "cell_type": "markdown",
      "metadata": {},
      "source": [
        "## MinMax"
      ]
    },
    {
      "cell_type": "code",
      "execution_count": null,
      "metadata": {},
      "outputs": [],
      "source": [
        "import random\n",
        "import math\n",
        "\n",
        "ROW_COUNT = 6\n",
        "COLUMN_COUNT = 7\n",
        "\n",
        "PLAYER = 0\n",
        "AI = 1\n",
        "\n",
        "EMPTY = \"🔲\"\n",
        "PLAYER_PIECE = \"🔴\"\n",
        "AI_PIECE = \"🔵\"\n",
        "\n",
        "WINDOW_LENGTH = 4\n",
        "\n",
        "def create_board():\n",
        "    board = [[EMPTY] * COLUMN_COUNT for _ in range(ROW_COUNT)]\n",
        "    return board"
      ]
    },
    {
      "cell_type": "markdown",
      "metadata": {},
      "source": [
        "Começamos por importar as bibliotecas \"random\" para inicializar colunas aleatoriamente e \"math\" para operações matemáticas. Definimos também valores fixos, como o número de linhas, o número de colunas, os valores atribuídos ao jogador e à AI, as peças que compõe o tabuleiro e o comprimento de um segmento relevante (4 peças seguidas).\n",
        "A função create_board cria um tabuleiro vazio."
      ]
    },
    {
      "cell_type": "code",
      "execution_count": null,
      "metadata": {},
      "outputs": [],
      "source": [
        "def drop_piece(board, row, col, piece):\n",
        "    board[row][col] = piece\n",
        "\n",
        "def is_valid_location(board, col):\n",
        "    return board[ROW_COUNT - 1][col] == EMPTY\n",
        "\n",
        "def get_next_open_row(board, col):\n",
        "    for r in range(ROW_COUNT):\n",
        "        if board[r][col] == EMPTY:\n",
        "            return r\n",
        "\n",
        "def print_board(board):\n",
        "    print(\"==============\")\n",
        "    for row in reversed(board):\n",
        "        print(' '.join(row))"
      ]
    },
    {
      "cell_type": "markdown",
      "metadata": {},
      "source": [
        "A função \"drop_piece\" coloca a peça desejada (🔴 ou 🔵) no respetivo lugar do tabuleiro, substituindo o espaço vazio.\n",
        "Em \"is_valid_location\" uma certa coluna do tabuleiro é avaliada para verificar se é possível colocar lá uma peça. Para isso, basta confirmar que a posição no topo da coluna está vazia.\n",
        "Para determinar em que linha a peça será inserida, usamos \"get_next_open_row\", que retorna a próxima linha disponível (não preenchida).\n",
        "A função \"print_board\" permite uma visualização do tabuleiro, imprimindo-o na saída padrão. Ela funciona iterando sobre as linhas do tabuleiro, mas no sentido invertido, ou seja, começa a imprimir da última linha até a primeira.\n",
        "\n"
      ]
    },
    {
      "cell_type": "code",
      "execution_count": null,
      "metadata": {},
      "outputs": [],
      "source": [
        "def winning_move(board, piece):\n",
        "    # Horizontais\n",
        "    for c in range(COLUMN_COUNT - 3):\n",
        "        for r in range(ROW_COUNT):\n",
        "            if board[r][c] == piece and board[r][c+1] == piece and board[r][c+2] == piece and board[r][c+3] == piece:\n",
        "                return True\n",
        "\n",
        "    # Verticais\n",
        "    for c in range(COLUMN_COUNT):\n",
        "        for r in range(ROW_COUNT - 3):\n",
        "            if board[r][c] == piece and board[r+1][c] == piece and board[r+2][c] == piece and board[r+3][c] == piece:\n",
        "                return True\n",
        "\n",
        "    # Diagonais positivas\n",
        "    for c in range(COLUMN_COUNT - 3):\n",
        "        for r in range(ROW_COUNT - 3):\n",
        "            if board[r][c] == piece and board[r+1][c+1] == piece and board[r+2][c+2] == piece and board[r+3][c+3] == piece:\n",
        "                return True\n",
        "\n",
        "    # Diagonais negativas\n",
        "    for c in range(COLUMN_COUNT - 3):\n",
        "        for r in range(3, ROW_COUNT):\n",
        "            if board[r][c] == piece and board[r-1][c+1] == piece and board[r-2][c+2] == piece and board[r-3][c+3] == piece:\n",
        "                return True\n"
      ]
    },
    {
      "cell_type": "markdown",
      "metadata": {},
      "source": [
        "Nesta função, verificamos todos os segmentos de 4 peças seguidas, quer seja na horizontal, vertical ou diagonais. Ela retorna True se existirem 4 peças do mesmo jogador no segmento."
      ]
    },
    {
      "cell_type": "code",
      "execution_count": null,
      "metadata": {},
      "outputs": [],
      "source": [
        "def evaluate_window(window, piece):\n",
        "    score = 0\n",
        "    opp_piece = PLAYER_PIECE if piece == AI_PIECE else AI_PIECE\n",
        "    \n",
        "    if window.count(piece) == 4:\n",
        "        score += 90000\n",
        "    elif window.count(piece) == 3 and window.count(EMPTY) == 1:\n",
        "        score += 50\n",
        "    elif window.count(piece) == 2 and window.count(EMPTY) == 2:\n",
        "        score += 10\n",
        "    elif window.count(piece) == 1 and window.count(EMPTY) == 3:\n",
        "        score += 1\n",
        "\n",
        "    if window.count(opp_piece) == 4:\n",
        "        score -= 10000\n",
        "    elif window.count(opp_piece) == 3 and window.count(EMPTY) == 1:\n",
        "        score -= 50\n",
        "    elif window.count(opp_piece) == 2 and window.count(EMPTY) == 2:\n",
        "        score -= 10\n",
        "    elif window.count(opp_piece) == 1 and window.count(EMPTY) == 3:\n",
        "        score -= 1\n",
        "\n",
        "    return score"
      ]
    },
    {
      "cell_type": "markdown",
      "metadata": {},
      "source": [
        "Aqui são definidos os valores para cada situação que pode ocorrer num segmento. Por exemplo, quando a jogada resulta em 4 peças seguidas, o valor atribuído é 90000, enquanto que se forem 3 o valor é 50. Caso as peças sejam do oponente, o valor é negativo."
      ]
    },
    {
      "cell_type": "code",
      "execution_count": null,
      "metadata": {},
      "outputs": [],
      "source": [
        "def score_position(board, piece):\n",
        "    score = 0\n",
        "\n",
        "    # Centro\n",
        "    center_array = [board[i][COLUMN_COUNT // 2] for i in range(ROW_COUNT)]\n",
        "    center_count = center_array.count(piece)\n",
        "    score += center_count * 3\n",
        "\n",
        "    # Horizontal\n",
        "    for r in range(ROW_COUNT):\n",
        "        row_array = board[r]\n",
        "        for c in range(COLUMN_COUNT - 3):\n",
        "            window = row_array[c:c + WINDOW_LENGTH]\n",
        "            score += evaluate_window(window, piece)\n",
        "\n",
        "    # Vertical\n",
        "    for c in range(COLUMN_COUNT):\n",
        "        col_array = [board[i][c] for i in range(ROW_COUNT)]\n",
        "        for r in range(ROW_COUNT - 3):\n",
        "            window = col_array[r:r + WINDOW_LENGTH]\n",
        "            score += evaluate_window(window, piece)\n",
        "\n",
        "    # Diagonal positiva\n",
        "    for r in range(ROW_COUNT - 3):\n",
        "        for c in range(COLUMN_COUNT - 3):\n",
        "            window = [board[r + i][c + i] for i in range(WINDOW_LENGTH)]\n",
        "            score += evaluate_window(window, piece)\n",
        "\n",
        "    # Diagonal negativa\n",
        "    for r in range(ROW_COUNT - 3):\n",
        "        for c in range(COLUMN_COUNT - 3):\n",
        "            window = [board[r + 3 - i][c + i] for i in range(WINDOW_LENGTH)]\n",
        "            score += evaluate_window(window, piece)\n",
        "\n",
        "    return score"
      ]
    },
    {
      "cell_type": "markdown",
      "metadata": {},
      "source": [
        "Em \"score_position\", a situação atual do tabuleiro é avaliada e são atribuídos valores por cada segmento de 4 usando a função evaluate_window. Desta forma, o estado atual recebe um valor que poderá ser comparado com outros estados e determinar se é melhor ou pior."
      ]
    },
    {
      "cell_type": "code",
      "execution_count": null,
      "metadata": {},
      "outputs": [],
      "source": [
        "def get_valid_locations(board):\n",
        "    valid_locations = []\n",
        "    for col in range(COLUMN_COUNT):\n",
        "        if is_valid_location(board, col):\n",
        "            valid_locations.append(col)\n",
        "    return valid_locations\n",
        "\n",
        "def pick_best_move(board, piece):\n",
        "    valid_locations = get_valid_locations(board)\n",
        "    best_score = -10000\n",
        "    best_col = random.choice(valid_locations)\n",
        "    for col in valid_locations:\n",
        "        row = get_next_open_row(board, col)\n",
        "        temp_board = [row[:] for row in board]\n",
        "        drop_piece(temp_board, row, col, piece)\n",
        "        score = score_position(temp_board, piece)\n",
        "        if score > best_score:\n",
        "            best_score = score\n",
        "            best_col = col\n",
        "\n",
        "    return best_col"
      ]
    },
    {
      "cell_type": "markdown",
      "metadata": {},
      "source": [
        "A função \"get_valid_locations\" retorna uma lista com as jogadas válidas possíveis.\n",
        "Em \"pick_best_move\" verifica-se qual é a jogada ideal usando um tabuleiro temporário e substituindo best_score por score, caso este seja mais alto para aquela coluna."
      ]
    },
    {
      "cell_type": "code",
      "execution_count": null,
      "metadata": {},
      "outputs": [],
      "source": [
        "def is_terminal_node(board):\n",
        "    return winning_move(board, PLAYER_PIECE) or winning_move(board, AI_PIECE) or len(get_valid_locations(board)) == 0\n",
        "\n",
        "def minimax(board, depth, alpha, beta, maximizingPlayer):\n",
        "    valid_locations = get_valid_locations(board)\n",
        "    is_terminal = is_terminal_node(board)\n",
        "    if depth == 0 or is_terminal:\n",
        "        if is_terminal:\n",
        "            if winning_move(board, AI_PIECE):\n",
        "                return (None, 100000000000000)\n",
        "            elif winning_move(board, PLAYER_PIECE):\n",
        "                return (None, -10000000000000)\n",
        "            else:  # Game is over, no more valid moves\n",
        "                return (None, 0)\n",
        "        else:  # Depth is zero\n",
        "            return (None, score_position(board, AI_PIECE))\n",
        "    if maximizingPlayer:\n",
        "        value = -math.inf\n",
        "        column = random.choice(valid_locations)\n",
        "        for col in valid_locations:\n",
        "            row = get_next_open_row(board, col)\n",
        "            b_copy = [row[:] for row in board]\n",
        "            drop_piece(b_copy, row, col, AI_PIECE)\n",
        "            new_score = minimax(b_copy, depth - 1, alpha, beta, False)[1]\n",
        "            if new_score > value:\n",
        "                value = new_score\n",
        "                column = col\n",
        "            alpha = max(alpha, value)\n",
        "            if alpha >= beta:\n",
        "                break\n",
        "        return column, value\n",
        "\n",
        "    else:  # Minimizing player\n",
        "        value = math.inf\n",
        "        column = random.choice(valid_locations)\n",
        "        for col in valid_locations:\n",
        "            row = get_next_open_row(board, col)\n",
        "            b_copy = [row[:] for row in board]\n",
        "            drop_piece(b_copy, row, col, PLAYER_PIECE)\n",
        "            new_score = minimax(b_copy, depth - 1, alpha, beta, True)[1]\n",
        "            if new_score < value:\n",
        "                value = new_score\n",
        "                column = col\n",
        "            beta = min(beta, value)\n",
        "            if alpha >= beta:\n",
        "                break\n",
        "        return column, value"
      ]
    },
    {
      "cell_type": "markdown",
      "metadata": {},
      "source": [
        "Na primeira função, \"is_terminal_node\", verificamos se o estado do tabuleiro é final, ou seja, se o jogo já acabou. Isto acontece caso um jogador ganhe ou já não hajam mais espaços para inserir as peças.\n",
        "Na função \"minimax\", primeiro obtemos as colunas válidas e verificamos se o estado do tabuleiro é final. Se for final, a função não retorna nenhuma coluna. Caso contrário, irá passar por uma sequência de testes. Em suma, a função ramifica o estado atual do tabuleiro em tantos ramos quanto o número de colunas válidas. Cada ramificação também se divide, até chegar à profundidade desejada. Assim que isto acontece, cada conjunto de ramificações é comparado entre eles e é escolhido o melhor dependendo de quem está a escolher. Se for \"maximizingPlayer\", este irá querer escolher o tabuleiro com a pontuação mais alta. No entanto, se for o \"minimizingPlayer\", ele escolherá o que tem a pontuação mais baixa (representando a jogada do oponente). Desta forma, consegue prever um grande número de jogadas e escolher a coluna mais favorável ao estado atual."
      ]
    },
    {
      "cell_type": "code",
      "execution_count": null,
      "metadata": {},
      "outputs": [],
      "source": [
        "def move(human, ai):\n",
        "\tboard = create_board()\n",
        "\tprint_board(board)\n",
        "\tgame_over = False\n",
        "\n",
        "\tturn = 0\n",
        "\n",
        "\twhile not game_over:\n",
        "\n",
        "\t\tif turn == PLAYER and not game_over:\n",
        "\t\t\tcol = input(\"Escolhe uma coluna de 1 a 7: \")\n",
        "\t\t\tif col == 'x':\n",
        "\t\t\t\tprint(\"FORCE-QUITTING GAME. . .\")\n",
        "\t\t\t\tbreak\n",
        "\n",
        "\t\t\tif col.isdigit():\n",
        "\t\t\t\tcol = int(col)\n",
        "\t\t\t\tcol -= 1\n",
        "\n",
        "\t\t\t# Ask for Player 1 Input\n",
        "\t\t\tif is_valid_location(board, col):\n",
        "\t\t\t\trow = get_next_open_row(board, col)\n",
        "\t\t\t\tdrop_piece(board, row, col, PLAYER_PIECE)\n",
        "\n",
        "\t\t\t\tif winning_move(board, PLAYER_PIECE):\n",
        "\t\t\t\t\tgame_over = True\n",
        "\n",
        "\t\t\t\tturn += 1\n",
        "\t\t\t\tturn = turn % 2\n",
        "\n",
        "\t\t\t\tprint_board(board)\n",
        "\n",
        "\t\t\telse:\n",
        "\t\t\t\tprint(\"Escolha inválida!\")\n",
        "\n",
        "\t\t\n",
        "\t\tif turn == AI and not game_over:\n",
        "\t\t\tcol, minimax_score = minimax(board, 5, -math.inf, math.inf, True)\n",
        "\n",
        "\t\t\tif is_valid_location(board, col):\n",
        "\t\t\t\t# pygame.time.wait(500)\n",
        "\t\t\t\trow = get_next_open_row(board, col)\n",
        "\t\t\t\tdrop_piece(board, row, col, AI_PIECE)\n",
        "\n",
        "\t\t\t\tif winning_move(board, AI_PIECE):\n",
        "\t\t\t\t\tgame_over = True\n",
        "\n",
        "\t\t\t\tprint_board(board)\n",
        "\n",
        "\t\t\t\tturn += 1\n",
        "\t\t\t\tturn = turn % 2\n",
        "\n",
        "\t\tif game_over:\n",
        "\t\t\tif winning_move(board, PLAYER_PIECE):\n",
        "\t\t\t\tprint(f\"{human} vence!\")\n",
        "\t\t\telse:\n",
        "\t\t\t\tprint(f\"{ai} vence!\")\n",
        "\n",
        "\t\t\tprint(\"FORCE-QUITTING GAME. . .\")"
      ]
    },
    {
      "cell_type": "markdown",
      "metadata": {},
      "source": [
        "Esta é a função principal deste algoritmo. Permite ao utilizador interagir com o tabuleiro, e chama a função minimax para determinar a melhor coluna possível. Também imprime os vencedores e as instruções do jogo."
      ]
    },
    {
      "cell_type": "markdown",
      "metadata": {},
      "source": [
        "## Game Interface"
      ]
    },
    {
      "cell_type": "code",
      "execution_count": null,
      "metadata": {
        "id": "1tgReoDeFl_T"
      },
      "outputs": [],
      "source": [
        "import time\n",
        "\n",
        "# o módulo time serve para que a jogada do A* não seja automática fazendo com que o jogo fique menos confuso no terminal pq JESUS\n",
        "\n",
        "def print_board(board):\n",
        "    for row in board:\n",
        "        print(\" \".join(row))\n",
        "\n",
        "\n",
        "def drop_chip(board, column, chip):\n",
        "    for row in range(5, -1, -1):\n",
        "        if board[row][column] == \"🔲\":\n",
        "            board[row][column] = chip\n",
        "            return True\n",
        "    return False\n",
        "\n",
        "\n",
        "def is_board_full(board):\n",
        "    for row in board:\n",
        "        if \"🔲\" in row:\n",
        "            return False\n",
        "    return True"
      ]
    },
    {
      "cell_type": "markdown",
      "metadata": {},
      "source": [
        "Esta secção do interface do jogo 4-em-linha começa com \"import time\", que é exclusivamente utilizado na função \"main()\" para fazer com que o programa espere 0.5 segundos depois de uma jogada. Isto serve simplesmente para fazer com que o terminal fique menos confuso com as sucessivas \"impressões\".\n",
        "\n",
        "De seguida temos 3 funções implementadas, uma dais quais já foi explicada acima (a função \"drop_chip()\"). A função \"print_board()\" recebe uma lista como input e imprime-o para a saída padrão no terminal, representando assim o estado atual do tabuleiro. A função \"is_board_full(board)\" recebe a lista representante do tabuleiro e verifica se existe o símbolo 🔲, o que indica um espaço livre no tabuleiro. Se este símbolo existir, significa que o tabuleiro não está cheio, logo a função retorna False. Caso contrário, retorna True."
      ]
    },
    {
      "cell_type": "code",
      "execution_count": null,
      "metadata": {},
      "outputs": [],
      "source": [
        "def main():\n",
        "    board = [[\"🔲\"] * 7 for _ in range(6)]\n",
        "    print(\"4 em Linha\")\n",
        "\n",
        "    player_one = input(\"Nome do Jogador: \")\n",
        "    #   player_two = input(\"Nome do JOgador 2: \")\n",
        "    player_two = \"AI\"\n",
        "\n",
        "    while True:\n",
        "        print(\"==============\")\n",
        "        print(\"Algoritmo 'a' - A*\")\n",
        "        print(\"Algoritmo 'b' - Monte-Carlo Tree Search\")\n",
        "        print(\"Algoritmo 'c' - MinMax (IN TESTING)\")\n",
        "        choice = input(\"Pretende jogar contra qual algoritmo? \")\n",
        "        time.sleep(0.5)\n",
        "        \n",
        "        if choice == 'a':\n",
        "            print(\"Selecionou o algoritmo A*.\")\n",
        "            break\n",
        "        elif choice == 'b':\n",
        "            print(\"Selecionou o algoritmo Monte-Carlo Tree Search.\")\n",
        "            break\n",
        "        elif choice == 'c':\n",
        "            print(\"Selecionou o algoritmo MinMax.\")\n",
        "            time.sleep(0.5)\n",
        "            print(\"Este algoritmo apenas sai do jogo com um FORCE-QUIT. . .\")\n",
        "            time.sleep(0.5)\n",
        "            move(player_one, player_two)\n",
        "            time.sleep(0.5)\n",
        "            column == 'x'\n",
        "            break\n",
        "        else:\n",
        "            print(\"Escolha inválida!\")\n",
        "\n",
        "    print(\"%s contra %s\" % (player_one, player_two))\n",
        "    print(\"==============\")\n",
        "    print_board(board)\n",
        "    print(\"%s controla 🔴\" % player_one)\n",
        "    print(\"AI controla 🔵\")\n",
        "\n",
        "    players = [(player_one, \"🔴\"), (player_two, \"🔵\")]\n",
        "    turn = 0\n",
        "\n",
        "    while True:\n",
        "        player, chip = players[turn % 2]\n",
        "\n",
        "        if player == player_one:\n",
        "            while True:\n",
        "                column = input(\"Escolhe uma coluna de 1 a 7: \")\n",
        "                if column == 'x':\n",
        "                    print(\"FORCE-QUITTING GAME. . .\")\n",
        "                    break\n",
        "                if column.isdigit() and 1 <= int(column) <= 7:\n",
        "                    column = int(column) -1\n",
        "                    break\n",
        "                else:\n",
        "                    print(\"Escolha inválida!\")\n",
        "\n",
        "            print(\"==============\")\n",
        "            time.sleep(0.5)\n",
        "        else:\n",
        "            print(\"É a vez do %s.\" % (player_two))\n",
        "            print(\"==============\")\n",
        "\n",
        "            if choice == 'b':\n",
        "                column = MCTS_move(board)\n",
        "                # time.sleep(0.5)\n",
        "            else:\n",
        "                column = A_star_move(board)\n",
        "                time.sleep(0.5)\n",
        "\n",
        "        if column is not None and 0 <= column < 7:\n",
        "            if drop_chip(board, column, chip):\n",
        "                print_board(board)\n",
        "                if check_winner(board, chip):\n",
        "                    print(f\"{player} vence!\")\n",
        "                    break\n",
        "                elif is_board_full(board):\n",
        "                    print(\"Empate!\")\n",
        "                    break\n",
        "                turn += 1\n",
        "            else:\n",
        "                print(\"Escolha inválida!\")\n",
        "        else:\n",
        "            print(\"Escolha inválida!\")\n",
        "\n",
        "\n",
        "if __name__ == \"__main__\":\n",
        "    main()"
      ]
    },
    {
      "cell_type": "markdown",
      "metadata": {},
      "source": [
        "A função \"main()\" é a função principal que cria o ambiente de jogo. Inicialmente, define a variável \"board\" como sendo uma matrix (lista de listas) de 6 linhas e 7 colunas, completamente preenchida com o símbolo 🔲, que reresentam os espaços vazios.\n",
        "\n",
        "De seguida, solicita o nome do jogador humano, que é sempre o primeiro jogador, representado com a ficha de jogo azul (🔵), e define de seguida o segundo jogador como sendo o \"AI\", representado com a ficha de jogo vermelha (🔴).\n",
        "\n",
        "Após a definição do jogo, um loop \"while\" permite que o jogador escolha contra qual algortimo pretende jogar. Selecionando a opção \"a\", o AI será controlado pelo algoritmo A*. Selecionando a opção \"b\", o AI será controlado pelo algoritmo Monte-Carlo Tree Search. Esta escolha é definida pela variável \"choice\". Selecionando o algoritmo \"c\", o AI será controlado pelo algoritmo MinMax (este algoritmo não tem uma saída suave).\n",
        "\n",
        "Depois dessa escolha, existe outro loop \"while\". Iniciando-se com o jogador humano, o programa solicita o input de uma coluna para colocar a sua ficha de jogo. Para fins de \"debugging\", foi adicionada a possibilidade de fazer um \"force-quit\" do jogo, possivel pelo input the um \"x\" em vez de um inteiro de 1 a 7.\n",
        "\n",
        "Depois da jogada, o tabuleiro é atualizado e é verificado se existe um vencedor ou empate. Se isso não acontecer, a ronda passa para o AI. De acordo com a escolha de algoritmo, a função \"MCTS_move()\" é chamada, ou a função \"A_star_move()\". Isto repete-se infinitamente até não existirem mais espaços \"válidos\" para inserir fichas de jogo (empate), ou até qualquer um dos jogadores vencer (vitória)."
      ]
    }
  ],
  "metadata": {
    "colab": {
      "provenance": []
    },
    "kernelspec": {
      "display_name": "Python 3",
      "language": "python",
      "name": "python3"
    },
    "language_info": {
      "codemirror_mode": {
        "name": "ipython",
        "version": 3
      },
      "file_extension": ".py",
      "mimetype": "text/x-python",
      "name": "python",
      "nbconvert_exporter": "python",
      "pygments_lexer": "ipython3",
      "version": "3.11.8"
    },
    "toc-autonumbering": true
  },
  "nbformat": 4,
  "nbformat_minor": 0
}
